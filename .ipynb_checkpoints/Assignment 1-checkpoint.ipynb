{
 "cells": [
  {
   "cell_type": "markdown",
   "id": "6307d599",
   "metadata": {},
   "source": [
    "Notes: \n",
    "* Answer each question in a separate Jupynet Notebook Cell\n",
    "* Pleas keep the code in your cells short. \n",
    "  * In notebook programming cells are typicaly short to facilitate reading. \n",
    "  * If well toughout, most answers in this assignment won're require more than 3 or 4 lines of code. \n",
    "* Do no change the list of import, i.e., do not add additional libraries. Those included are the only ones you are allowed to use.\n",
    "* Add your first and Last name below:\n",
    "\n",
    "<First Name> Andre\n",
    "<Last Name> Ruiz\n",
    "    \n"
   ]
  },
  {
   "cell_type": "code",
   "execution_count": 3,
   "id": "a78e91d5",
   "metadata": {},
   "outputs": [
    {
     "name": "stdout",
     "output_type": "stream",
     "text": [
      "Requirement already satisfied: pandas in c:\\users\\ajrui\\miniconda3\\lib\\site-packages (1.3.3)\n",
      "Requirement already satisfied: numpy>=1.17.3 in c:\\users\\ajrui\\miniconda3\\lib\\site-packages (from pandas) (1.21.2)\n",
      "Requirement already satisfied: pytz>=2017.3 in c:\\users\\ajrui\\miniconda3\\lib\\site-packages (from pandas) (2021.1)\n",
      "Requirement already satisfied: python-dateutil>=2.7.3 in c:\\users\\ajrui\\miniconda3\\lib\\site-packages (from pandas) (2.8.2)\n",
      "Requirement already satisfied: six>=1.5 in c:\\users\\ajrui\\miniconda3\\lib\\site-packages (from python-dateutil>=2.7.3->pandas) (1.16.0)\n"
     ]
    }
   ],
   "source": [
    "!pip install pandas\n",
    "import pandas as pd\n",
    "from itertools import product\n",
    "from collections import Counter\n",
    "from tqdm.notebook import tqdm\n",
    "import random"
   ]
  },
  {
   "cell_type": "markdown",
   "id": "1258957f",
   "metadata": {},
   "source": [
    "In this assignment you will be working with Corona Virus (SARS-CoV2) data that was obtained from the [National Center for Biotechnology Information](https://www.ncbi.nlm.nih.gov/). You will need two files. The first (`data/coronavirus_info.csv`) is small and is provided in the GitHub Repo. The second  (`data_report.jsonl`) is larger so you will need to download a compressed version, which you will need to uncompress prior to using. You can downlod the second file here:\n",
    "\n",
    "https://www.dropbox.com/s/qdn67rshygz06ff/data_report.jsonl.gz?dl=0\n",
    "\n",
    "We start by loading `data/coronavirus_info.csv` (Code provided below)"
   ]
  },
  {
   "cell_type": "code",
   "execution_count": 4,
   "id": "b03484ac",
   "metadata": {
    "scrolled": true
   },
   "outputs": [
    {
     "data": {
      "text/html": [
       "<div>\n",
       "<style scoped>\n",
       "    .dataframe tbody tr th:only-of-type {\n",
       "        vertical-align: middle;\n",
       "    }\n",
       "\n",
       "    .dataframe tbody tr th {\n",
       "        vertical-align: top;\n",
       "    }\n",
       "\n",
       "    .dataframe thead th {\n",
       "        text-align: right;\n",
       "    }\n",
       "</style>\n",
       "<table border=\"1\" class=\"dataframe\">\n",
       "  <thead>\n",
       "    <tr style=\"text-align: right;\">\n",
       "      <th></th>\n",
       "      <th>Nucleotide Accession</th>\n",
       "      <th>Species Name</th>\n",
       "      <th>Virus Genus</th>\n",
       "      <th>Virus Family</th>\n",
       "      <th>Isolate Name</th>\n",
       "      <th>Nucleotide Length</th>\n",
       "      <th>Geo Location</th>\n",
       "      <th>Collection Date</th>\n",
       "    </tr>\n",
       "  </thead>\n",
       "  <tbody>\n",
       "    <tr>\n",
       "      <th>0</th>\n",
       "      <td>NC_045512.2</td>\n",
       "      <td>Severe acute respiratory syndrome coronavirus 2</td>\n",
       "      <td>Betacoronavirus</td>\n",
       "      <td>Coronaviridae</td>\n",
       "      <td>Wuhan-Hu-1</td>\n",
       "      <td>29903</td>\n",
       "      <td>Asia; China</td>\n",
       "      <td>2019-12</td>\n",
       "    </tr>\n",
       "    <tr>\n",
       "      <th>1</th>\n",
       "      <td>OK058807.1</td>\n",
       "      <td>Severe acute respiratory syndrome coronavirus 2</td>\n",
       "      <td>Betacoronavirus</td>\n",
       "      <td>Coronaviridae</td>\n",
       "      <td>SARS-CoV-2/human/USA/MA-MASPHL-04825/2021</td>\n",
       "      <td>29801</td>\n",
       "      <td>North America; USA</td>\n",
       "      <td>2021-07-29</td>\n",
       "    </tr>\n",
       "    <tr>\n",
       "      <th>2</th>\n",
       "      <td>OK058777.1</td>\n",
       "      <td>Severe acute respiratory syndrome coronavirus 2</td>\n",
       "      <td>Betacoronavirus</td>\n",
       "      <td>Coronaviridae</td>\n",
       "      <td>SARS-CoV-2/human/USA/MA-MASPHL-04790/2021</td>\n",
       "      <td>29771</td>\n",
       "      <td>North America; USA</td>\n",
       "      <td>2021-08-10</td>\n",
       "    </tr>\n",
       "    <tr>\n",
       "      <th>3</th>\n",
       "      <td>OK058695.1</td>\n",
       "      <td>Severe acute respiratory syndrome coronavirus 2</td>\n",
       "      <td>Betacoronavirus</td>\n",
       "      <td>Coronaviridae</td>\n",
       "      <td>SARS-CoV-2/human/USA/MA-MASPHL-04700/2021</td>\n",
       "      <td>29820</td>\n",
       "      <td>North America; USA</td>\n",
       "      <td>2021-08-15</td>\n",
       "    </tr>\n",
       "    <tr>\n",
       "      <th>4</th>\n",
       "      <td>OK058662.1</td>\n",
       "      <td>Severe acute respiratory syndrome coronavirus 2</td>\n",
       "      <td>Betacoronavirus</td>\n",
       "      <td>Coronaviridae</td>\n",
       "      <td>SARS-CoV-2/human/USA/MA-MASPHL-04651/2021</td>\n",
       "      <td>29798</td>\n",
       "      <td>North America; USA</td>\n",
       "      <td>2021-08-09</td>\n",
       "    </tr>\n",
       "    <tr>\n",
       "      <th>5</th>\n",
       "      <td>OK058592.1</td>\n",
       "      <td>Severe acute respiratory syndrome coronavirus 2</td>\n",
       "      <td>Betacoronavirus</td>\n",
       "      <td>Coronaviridae</td>\n",
       "      <td>SARS-CoV-2/human/USA/MA-MASPHL-04499/2021</td>\n",
       "      <td>29802</td>\n",
       "      <td>North America; USA</td>\n",
       "      <td>2021-07-26</td>\n",
       "    </tr>\n",
       "    <tr>\n",
       "      <th>6</th>\n",
       "      <td>OK056996.1</td>\n",
       "      <td>Severe acute respiratory syndrome coronavirus 2</td>\n",
       "      <td>Betacoronavirus</td>\n",
       "      <td>Coronaviridae</td>\n",
       "      <td>SARS-CoV-2/human/USA/FL-CDC-QDX27934346/2021</td>\n",
       "      <td>29775</td>\n",
       "      <td>North America; USA: Florida</td>\n",
       "      <td>2021-08-18</td>\n",
       "    </tr>\n",
       "    <tr>\n",
       "      <th>7</th>\n",
       "      <td>OK056909.1</td>\n",
       "      <td>Severe acute respiratory syndrome coronavirus 2</td>\n",
       "      <td>Betacoronavirus</td>\n",
       "      <td>Coronaviridae</td>\n",
       "      <td>SARS-CoV-2/human/USA/CA-CDC-QDX27909662/2021</td>\n",
       "      <td>29775</td>\n",
       "      <td>North America; USA: California</td>\n",
       "      <td>2021-08-16</td>\n",
       "    </tr>\n",
       "    <tr>\n",
       "      <th>8</th>\n",
       "      <td>OK056850.1</td>\n",
       "      <td>Severe acute respiratory syndrome coronavirus 2</td>\n",
       "      <td>Betacoronavirus</td>\n",
       "      <td>Coronaviridae</td>\n",
       "      <td>SARS-CoV-2/human/USA/FL-CDC-QDX27934406/2021</td>\n",
       "      <td>29763</td>\n",
       "      <td>North America; USA: Florida</td>\n",
       "      <td>2021-08-18</td>\n",
       "    </tr>\n",
       "    <tr>\n",
       "      <th>9</th>\n",
       "      <td>OK056784.1</td>\n",
       "      <td>Severe acute respiratory syndrome coronavirus 2</td>\n",
       "      <td>Betacoronavirus</td>\n",
       "      <td>Coronaviridae</td>\n",
       "      <td>SARS-CoV-2/human/USA/NY-CDC-QDX28007789/2021</td>\n",
       "      <td>29775</td>\n",
       "      <td>North America; USA: New York</td>\n",
       "      <td>2021-08-21</td>\n",
       "    </tr>\n",
       "  </tbody>\n",
       "</table>\n",
       "</div>"
      ],
      "text/plain": [
       "  Nucleotide Accession                                     Species Name  \\\n",
       "0          NC_045512.2  Severe acute respiratory syndrome coronavirus 2   \n",
       "1           OK058807.1  Severe acute respiratory syndrome coronavirus 2   \n",
       "2           OK058777.1  Severe acute respiratory syndrome coronavirus 2   \n",
       "3           OK058695.1  Severe acute respiratory syndrome coronavirus 2   \n",
       "4           OK058662.1  Severe acute respiratory syndrome coronavirus 2   \n",
       "5           OK058592.1  Severe acute respiratory syndrome coronavirus 2   \n",
       "6           OK056996.1  Severe acute respiratory syndrome coronavirus 2   \n",
       "7           OK056909.1  Severe acute respiratory syndrome coronavirus 2   \n",
       "8           OK056850.1  Severe acute respiratory syndrome coronavirus 2   \n",
       "9           OK056784.1  Severe acute respiratory syndrome coronavirus 2   \n",
       "\n",
       "       Virus Genus   Virus Family  \\\n",
       "0  Betacoronavirus  Coronaviridae   \n",
       "1  Betacoronavirus  Coronaviridae   \n",
       "2  Betacoronavirus  Coronaviridae   \n",
       "3  Betacoronavirus  Coronaviridae   \n",
       "4  Betacoronavirus  Coronaviridae   \n",
       "5  Betacoronavirus  Coronaviridae   \n",
       "6  Betacoronavirus  Coronaviridae   \n",
       "7  Betacoronavirus  Coronaviridae   \n",
       "8  Betacoronavirus  Coronaviridae   \n",
       "9  Betacoronavirus  Coronaviridae   \n",
       "\n",
       "                                   Isolate Name  Nucleotide Length  \\\n",
       "0                                    Wuhan-Hu-1              29903   \n",
       "1     SARS-CoV-2/human/USA/MA-MASPHL-04825/2021              29801   \n",
       "2     SARS-CoV-2/human/USA/MA-MASPHL-04790/2021              29771   \n",
       "3     SARS-CoV-2/human/USA/MA-MASPHL-04700/2021              29820   \n",
       "4     SARS-CoV-2/human/USA/MA-MASPHL-04651/2021              29798   \n",
       "5     SARS-CoV-2/human/USA/MA-MASPHL-04499/2021              29802   \n",
       "6  SARS-CoV-2/human/USA/FL-CDC-QDX27934346/2021              29775   \n",
       "7  SARS-CoV-2/human/USA/CA-CDC-QDX27909662/2021              29775   \n",
       "8  SARS-CoV-2/human/USA/FL-CDC-QDX27934406/2021              29763   \n",
       "9  SARS-CoV-2/human/USA/NY-CDC-QDX28007789/2021              29775   \n",
       "\n",
       "                     Geo Location Collection Date  \n",
       "0                     Asia; China         2019-12  \n",
       "1              North America; USA      2021-07-29  \n",
       "2              North America; USA      2021-08-10  \n",
       "3              North America; USA      2021-08-15  \n",
       "4              North America; USA      2021-08-09  \n",
       "5              North America; USA      2021-07-26  \n",
       "6     North America; USA: Florida      2021-08-18  \n",
       "7  North America; USA: California      2021-08-16  \n",
       "8     North America; USA: Florida      2021-08-18  \n",
       "9    North America; USA: New York      2021-08-21  "
      ]
     },
     "execution_count": 4,
     "metadata": {},
     "output_type": "execute_result"
    }
   ],
   "source": [
    "# CODE PROVIDED -- DO NOT REMOVE\n",
    "table = pd.read_csv(\"data/coronavirus_info.csv\", low_memory=False)\n",
    "table = table.drop([\"US State\", \"Host Name\", \"Host Taxonomy ID\", \"Sequence Type\", \"Species Taxonomy Id\", \"Nuc Completeness\", \"BioProject\", \"BioSample\"], axis=1)\n",
    "\n",
    "missing = table[\"Geo Location\"].isnull()\n",
    "table.loc[missing, \"Geo Location\"] = \"\"\n",
    "\n",
    "\n",
    "table.head(10)"
   ]
  },
  {
   "cell_type": "markdown",
   "id": "693ce7f2",
   "metadata": {},
   "source": [
    "### Q.1\n",
    "\n",
    "* The location of each of the sequences is recorded under the `Geo Location` column.  How many entries are from Asia?\n",
    "  * Note that for some records, the `Geo Location` column is missing\n",
    "  * Display the results using the following format: \n",
    "    Asia: XXXX,\n",
    "    North America: XXXX,\n",
    "    Europe: XXXX,\n",
    "    Oceania: XXXX,\n",
    "    Africa: XXXX,\n",
    "    South America: XXXX \n"
   ]
  },
  {
   "cell_type": "code",
   "execution_count": 32,
   "id": "fedd7a41",
   "metadata": {
    "scrolled": false
   },
   "outputs": [
    {
     "data": {
      "text/plain": [
       "North America    224014\n",
       "Europe           189100\n",
       "Oceania           10301\n",
       "Asia               3903\n",
       "Africa             1405\n",
       "South America       534\n",
       "                     66\n",
       "Name: Geo Location, dtype: int64"
      ]
     },
     "execution_count": 32,
     "metadata": {},
     "output_type": "execute_result"
    }
   ],
   "source": [
    "# Write your code here\n",
    "table[\"Geo Location\"].apply(lambda s: s.split(';')[0]).value_counts()\n"
   ]
  },
  {
   "cell_type": "markdown",
   "id": "4f902c32",
   "metadata": {},
   "source": [
    "### Q.2\n",
    "Use the `coronavirus_info.csv` table to count the entries that are from Hawaii. "
   ]
  },
  {
   "cell_type": "code",
   "execution_count": 49,
   "id": "af84040b",
   "metadata": {},
   "outputs": [
    {
     "data": {
      "text/plain": [
       "North America; USA: Hawaii    119\n",
       "Name: Geo Location, dtype: int64"
      ]
     },
     "execution_count": 49,
     "metadata": {},
     "output_type": "execute_result"
    }
   ],
   "source": [
    "# Write your code here\n",
    "is_Hawaii = table[\"Geo Location\"].apply(lambda s: s.split('North America,  USA:')[0]).value_counts()\n",
    "is_Hawaii.filter(like=\"Hawaii\")"
   ]
  },
  {
   "cell_type": "markdown",
   "id": "10f25278",
   "metadata": {},
   "source": [
    "### Q.3\n",
    "\n",
    "The file `data_report.jsonl` contains the variants of the virus in the DB. This `json` file is a list of records (one per line) for each one of the genomes in the database. Before we work with the large file, we will experiment with a file containing a single record.\n",
    "\n",
    "The file `single_record.json` contains a single sample record. Use the `JSON library to load the file `single_record.json` into a variable called `sample_vir_record`\n",
    "\n",
    "1. how many first-level keys does this record have?\n",
    "  * Do not count nested keys. Only those at the top level should be counted\n",
    "\n"
   ]
  },
  {
   "cell_type": "code",
   "execution_count": 58,
   "id": "ff53f4d4",
   "metadata": {},
   "outputs": [
    {
     "name": "stdout",
     "output_type": "stream",
     "text": [
      "{'accession': 'BS000784.1', 'annotation': {'genes': [{'cds': [{'maturePeptide': [{'name': 'helicase', 'nucleotide': {'accessionVersion': 'BS000784.1', 'range': [{'begin': '16183', 'end': '17985'}], 'seqId': 'BS000784.1:16183-17985', 'sequenceHash': '6CA71C02', 'title': 'helicase [polyprotein=ORF1ab polyprotein] [organism=Severe acute respiratory syndrome coronavirus 2] [isolate=hCoV-19/Japan/Donner106/2020]'}, 'otherNames': ['helicase', 'non-structural protein 13', 'nonstructural protein 13'], 'protein': {'accessionVersion': 'BCX25040.1', 'range': [{'begin': '5325', 'end': '5925'}], 'seqId': 'BCX25040.1:5325-5925', 'sequenceHash': '17B91B6E', 'title': 'helicase [polyprotein=ORF1ab polyprotein] [organism=Severe acute respiratory syndrome coronavirus 2] [isolate=hCoV-19/Japan/Donner106/2020]'}, 'proteinCompleteness': 'COMPLETE'}, {'name': \"3'-to-5' exonuclease\", 'nucleotide': {'accessionVersion': 'BS000784.1', 'range': [{'begin': '17986', 'end': '19566'}], 'seqId': 'BS000784.1:17986-19566', 'sequenceHash': '75851910', 'title': \"3'-to-5' exonuclease [polyprotein=ORF1ab polyprotein] [organism=Severe acute respiratory syndrome coronavirus 2] [isolate=hCoV-19/Japan/Donner106/2020]\"}, 'otherNames': [\"3'-to-5' exonuclease\", 'non-structural protein 14', 'nonstructural protein 14', 'nsp14'], 'protein': {'accessionVersion': 'BCX25040.1', 'range': [{'begin': '5926', 'end': '6452'}], 'seqId': 'BCX25040.1:5926-6452', 'sequenceHash': '5A1737', 'title': \"3'-to-5' exonuclease [polyprotein=ORF1ab polyprotein] [organism=Severe acute respiratory syndrome coronavirus 2] [isolate=hCoV-19/Japan/Donner106/2020]\"}, 'proteinCompleteness': 'COMPLETE'}, {'name': 'endoRNAse', 'nucleotide': {'accessionVersion': 'BS000784.1', 'range': [{'begin': '19567', 'end': '20604'}], 'seqId': 'BS000784.1:19567-20604', 'sequenceHash': 'C4DC1059', 'title': 'endoRNAse [polyprotein=ORF1ab polyprotein] [organism=Severe acute respiratory syndrome coronavirus 2] [isolate=hCoV-19/Japan/Donner106/2020]'}, 'otherNames': ['endoRNAse', 'non-structural protein 15', 'nonstructural protein 15', 'nsp15'], 'protein': {'accessionVersion': 'BCX25040.1', 'range': [{'begin': '6453', 'end': '6798'}], 'seqId': 'BCX25040.1:6453-6798', 'sequenceHash': '76160F5B', 'title': 'endoRNAse [polyprotein=ORF1ab polyprotein] [organism=Severe acute respiratory syndrome coronavirus 2] [isolate=hCoV-19/Japan/Donner106/2020]'}, 'proteinCompleteness': 'COMPLETE'}, {'name': \"2'-O-ribose methyltransferase\", 'nucleotide': {'accessionVersion': 'BS000784.1', 'range': [{'begin': '20605', 'end': '21498'}], 'seqId': 'BS000784.1:20605-21498', 'sequenceHash': '58910E2D', 'title': \"2'-O-ribose methyltransferase [polyprotein=ORF1ab polyprotein] [organism=Severe acute respiratory syndrome coronavirus 2] [isolate=hCoV-19/Japan/Donner106/2020]\"}, 'otherNames': [\"2'-o-MT\", \"2'-o-ribose methyltransferase\", 'non-structural protein 16', 'nonstructural protein 16', 'nsp16', 'nsp16_OMT'], 'protein': {'accessionVersion': 'BCX25040.1', 'range': [{'begin': '6799', 'end': '7096'}], 'seqId': 'BCX25040.1:6799-7096', 'sequenceHash': 'D59F0D72', 'title': \"2'-O-ribose methyltransferase [polyprotein=ORF1ab polyprotein] [organism=Severe acute respiratory syndrome coronavirus 2] [isolate=hCoV-19/Japan/Donner106/2020]\"}, 'proteinCompleteness': 'COMPLETE'}], 'name': 'ORF1ab polyprotein', 'nucleotide': {'accessionVersion': 'BS000784.1', 'range': [{'begin': '212', 'end': '13414'}, {'begin': '13414', 'end': '21501'}], 'seqId': 'BS000784.1:212-13414,13414-21501', 'sequenceHash': 'E1675004', 'title': 'ORF1ab polyprotein [organism=Severe acute respiratory syndrome coronavirus 2] [isolate=hCoV-19/Japan/Donner106/2020]'}, 'otherNames': ['ORF1ab', 'ORF1ab polyprotein', 'open reading frame 1', 'open reading frame 1ab', 'orf1', 'orf1b', 'polyprotein 1ab', 'pp1ab'], 'protein': {'accessionVersion': 'BCX25040.1', 'range': [{'begin': '1', 'end': '7096'}], 'seqId': 'BCX25040.1:1-7096', 'sequenceHash': '52943D2C', 'title': 'ORF1ab polyprotein [organism=Severe acute respiratory syndrome coronavirus 2] [isolate=hCoV-19/Japan/Donner106/2020]'}}, {'name': '[mat_peptide]: /product=RNA-dependent RNA polymerase', 'nucleotide': {'accessionVersion': 'BS000784.1', 'range': [{'begin': '212', 'end': '13414'}, {'begin': '13414', 'end': '21501'}], 'sequenceHash': 'E1675004'}, 'protein': {'accessionVersion': 'BS000784.1', 'range': [{'begin': '13388', 'end': '13414'}, {'begin': '13414', 'end': '16182'}], 'seqId': 'BS000784.1:13388-13414,13414-16182', 'sequenceHash': '9F172C0D', 'title': '[mat_peptide]: /product=RNA-dependent RNA polymerase [organism=Severe acute respiratory syndrome coronavirus 2] [isolate=hCoV-19/Japan/Donner106/2020]'}}, {'maturePeptide': [{'name': 'leader protein', 'nucleotide': {'accessionVersion': 'BS000784.1', 'range': [{'begin': '212', 'end': '751'}], 'seqId': 'BS000784.1:212-751', 'sequenceHash': 'CB7C0836', 'title': 'leader protein [polyprotein=ORF1a polyprotein] [organism=Severe acute respiratory syndrome coronavirus 2] [isolate=hCoV-19/Japan/Donner106/2020]'}, 'otherNames': ['leader protein', 'non-structural protein 1', 'nonstructural protein 1', 'nsp1'], 'protein': {'accessionVersion': 'BCX25041.1', 'range': [{'begin': '1', 'end': '180'}], 'seqId': 'BCX25041.1:1-180', 'sequenceHash': 'DFF407F9', 'title': 'leader protein [polyprotein=ORF1a polyprotein] [organism=Severe acute respiratory syndrome coronavirus 2] [isolate=hCoV-19/Japan/Donner106/2020]'}, 'proteinCompleteness': 'COMPLETE'}, {'name': 'nsp2', 'nucleotide': {'accessionVersion': 'BS000784.1', 'range': [{'begin': '752', 'end': '2665'}], 'seqId': 'BS000784.1:752-2665', 'sequenceHash': 'E741D86', 'title': 'nsp2 [polyprotein=ORF1a polyprotein] [organism=Severe acute respiratory syndrome coronavirus 2] [isolate=hCoV-19/Japan/Donner106/2020]'}, 'otherNames': ['non-structural protein 2', 'nonstructural protein 2', 'nsp2'], 'protein': {'accessionVersion': 'BCX25041.1', 'range': [{'begin': '181', 'end': '818'}], 'seqId': 'BCX25041.1:181-818', 'sequenceHash': '58F71ADE', 'title': 'nsp2 [polyprotein=ORF1a polyprotein] [organism=Severe acute respiratory syndrome coronavirus 2] [isolate=hCoV-19/Japan/Donner106/2020]'}, 'proteinCompleteness': 'COMPLETE'}, {'name': 'nsp3', 'nucleotide': {'accessionVersion': 'BS000784.1', 'range': [{'begin': '2666', 'end': '8500'}], 'seqId': 'BS000784.1:2666-8500', 'sequenceHash': '1D425AC7', 'title': 'nsp3 [polyprotein=ORF1a polyprotein] [organism=Severe acute respiratory syndrome coronavirus 2] [isolate=hCoV-19/Japan/Donner106/2020]'}, 'otherNames': ['non-structural protein 3', 'nonstructural protein 3', 'nsp3'], 'protein': {'accessionVersion': 'BCX25041.1', 'range': [{'begin': '819', 'end': '2763'}], 'seqId': 'BCX25041.1:819-2763', 'sequenceHash': '21B55819', 'title': 'nsp3 [polyprotein=ORF1a polyprotein] [organism=Severe acute respiratory syndrome coronavirus 2] [isolate=hCoV-19/Japan/Donner106/2020]'}, 'proteinCompleteness': 'COMPLETE'}, {'name': 'nsp4', 'nucleotide': {'accessionVersion': 'BS000784.1', 'range': [{'begin': '8501', 'end': '10000'}], 'seqId': 'BS000784.1:8501-10000', 'sequenceHash': '4BA01958', 'title': 'nsp4 [polyprotein=ORF1a polyprotein] [organism=Severe acute respiratory syndrome coronavirus 2] [isolate=hCoV-19/Japan/Donner106/2020]'}, 'otherNames': ['non-structural protein 4', 'nonstructural protein 4', 'nsp4'], 'protein': {'accessionVersion': 'BCX25041.1', 'range': [{'begin': '2764', 'end': '3263'}], 'seqId': 'BCX25041.1:2764-3263', 'sequenceHash': '2C781714', 'title': 'nsp4 [polyprotein=ORF1a polyprotein] [organism=Severe acute respiratory syndrome coronavirus 2] [isolate=hCoV-19/Japan/Donner106/2020]'}, 'proteinCompleteness': 'COMPLETE'}, {'name': '3C-like proteinase', 'nucleotide': {'accessionVersion': 'BS000784.1', 'range': [{'begin': '10001', 'end': '10918'}], 'seqId': 'BS000784.1:10001-10918', 'sequenceHash': 'C28D0EE5', 'title': '3C-like proteinase [polyprotein=ORF1a polyprotein] [organism=Severe acute respiratory syndrome coronavirus 2] [isolate=hCoV-19/Japan/Donner106/2020]'}, 'otherNames': ['3C-like proteinase', '3CLpro', 'Mpro', 'main proteinase', 'non-structural protein 5', 'nonstructural protein 5', 'nsp5A_3CLpro', 'nsp5B_3CLpro'], 'protein': {'accessionVersion': 'BCX25041.1', 'range': [{'begin': '3264', 'end': '3569'}], 'seqId': 'BCX25041.1:3264-3569', 'sequenceHash': '5CE30DBB', 'title': '3C-like proteinase [polyprotein=ORF1a polyprotein] [organism=Severe acute respiratory syndrome coronavirus 2] [isolate=hCoV-19/Japan/Donner106/2020]'}, 'proteinCompleteness': 'COMPLETE'}, {'name': 'nsp6', 'nucleotide': {'accessionVersion': 'BS000784.1', 'range': [{'begin': '10919', 'end': '11788'}], 'seqId': 'BS000784.1:10919-11788', 'sequenceHash': '99170F63', 'title': 'nsp6 [polyprotein=ORF1a polyprotein] [organism=Severe acute respiratory syndrome coronavirus 2] [isolate=hCoV-19/Japan/Donner106/2020]'}, 'otherNames': ['non-structural protein 6', 'nonstructural protein 6', 'nsp6'], 'protein': {'accessionVersion': 'BCX25041.1', 'range': [{'begin': '3570', 'end': '3859'}], 'seqId': 'BCX25041.1:3570-3859', 'sequenceHash': 'A72B0D80', 'title': 'nsp6 [polyprotein=ORF1a polyprotein] [organism=Severe acute respiratory syndrome coronavirus 2] [isolate=hCoV-19/Japan/Donner106/2020]'}, 'proteinCompleteness': 'COMPLETE'}, {'name': 'nsp7', 'nucleotide': {'accessionVersion': 'BS000784.1', 'range': [{'begin': '11789', 'end': '12037'}], 'seqId': 'BS000784.1:11789-12037', 'sequenceHash': 'DDAA03C2', 'title': 'nsp7 [polyprotein=ORF1a polyprotein] [organism=Severe acute respiratory syndrome coronavirus 2] [isolate=hCoV-19/Japan/Donner106/2020]'}, 'otherNames': ['non-structural protein 7', 'nonstructural protein 7', 'nsp7'], 'protein': {'accessionVersion': 'BCX25041.1', 'range': [{'begin': '3860', 'end': '3942'}], 'seqId': 'BCX25041.1:3860-3942', 'sequenceHash': 'A87703C6', 'title': 'nsp7 [polyprotein=ORF1a polyprotein] [organism=Severe acute respiratory syndrome coronavirus 2] [isolate=hCoV-19/Japan/Donner106/2020]'}, 'proteinCompleteness': 'COMPLETE'}, {'name': 'nsp8', 'nucleotide': {'accessionVersion': 'BS000784.1', 'range': [{'begin': '12038', 'end': '12631'}], 'seqId': 'BS000784.1:12038-12631', 'sequenceHash': '759508E4', 'title': 'nsp8 [polyprotein=ORF1a polyprotein] [organism=Severe acute respiratory syndrome coronavirus 2] [isolate=hCoV-19/Japan/Donner106/2020]'}, 'otherNames': ['non-structural protein 8', 'nonstructural protein 8', 'nsp8'], 'protein': {'accessionVersion': 'BCX25041.1', 'range': [{'begin': '3943', 'end': '4140'}], 'seqId': 'BCX25041.1:3943-4140', 'sequenceHash': '27D30877', 'title': 'nsp8 [polyprotein=ORF1a polyprotein] [organism=Severe acute respiratory syndrome coronavirus 2] [isolate=hCoV-19/Japan/Donner106/2020]'}, 'proteinCompleteness': 'COMPLETE'}, {'name': 'nsp9', 'nucleotide': {'accessionVersion': 'BS000784.1', 'range': [{'begin': '12632', 'end': '12970'}], 'seqId': 'BS000784.1:12632-12970', 'sequenceHash': '66A7051A', 'title': 'nsp9 [polyprotein=ORF1a polyprotein] [organism=Severe acute respiratory syndrome coronavirus 2] [isolate=hCoV-19/Japan/Donner106/2020]'}, 'otherNames': ['non-structural protein 9', 'nonstructural protein 9', 'nsp9', 'ssRNA-binding protein'], 'protein': {'accessionVersion': 'BCX25041.1', 'range': [{'begin': '4141', 'end': '4253'}], 'seqId': 'BCX25041.1:4141-4253', 'sequenceHash': '1A720513', 'title': 'nsp9 [polyprotein=ORF1a polyprotein] [organism=Severe acute respiratory syndrome coronavirus 2] [isolate=hCoV-19/Japan/Donner106/2020]'}, 'proteinCompleteness': 'COMPLETE'}, {'name': 'nsp10', 'nucleotide': {'accessionVersion': 'BS000784.1', 'range': [{'begin': '12971', 'end': '13387'}], 'seqId': 'BS000784.1:12971-13387', 'sequenceHash': '4B5A0671', 'title': 'nsp10 [polyprotein=ORF1a polyprotein] [organism=Severe acute respiratory syndrome coronavirus 2] [isolate=hCoV-19/Japan/Donner106/2020]'}, 'otherNames': ['GFL', 'growth-factor-like protein', 'non-structural protein 10', 'nonstructural protein 10', 'nsp10'], 'protein': {'accessionVersion': 'BCX25041.1', 'range': [{'begin': '4254', 'end': '4392'}], 'seqId': 'BCX25041.1:4254-4392', 'sequenceHash': '839705B4', 'title': 'nsp10 [polyprotein=ORF1a polyprotein] [organism=Severe acute respiratory syndrome coronavirus 2] [isolate=hCoV-19/Japan/Donner106/2020]'}, 'proteinCompleteness': 'COMPLETE'}, {'name': 'nsp11', 'nucleotide': {'accessionVersion': 'BS000784.1', 'range': [{'begin': '13388', 'end': '13426'}], 'seqId': 'BS000784.1:13388-13426', 'sequenceHash': 'CA400AB', 'title': 'nsp11 [polyprotein=ORF1a polyprotein] [organism=Severe acute respiratory syndrome coronavirus 2] [isolate=hCoV-19/Japan/Donner106/2020]'}, 'otherNames': ['non-structural protein 11', 'nonstructural protein 11', 'nsp11'], 'protein': {'accessionVersion': 'BCX25041.1', 'range': [{'begin': '4393', 'end': '4405'}], 'seqId': 'BCX25041.1:4393-4405', 'sequenceHash': '32B0077', 'title': 'nsp11 [polyprotein=ORF1a polyprotein] [organism=Severe acute respiratory syndrome coronavirus 2] [isolate=hCoV-19/Japan/Donner106/2020]'}, 'proteinCompleteness': 'COMPLETE'}], 'name': 'ORF1a polyprotein', 'nucleotide': {'accessionVersion': 'BS000784.1', 'range': [{'begin': '212', 'end': '13429'}], 'seqId': 'BS000784.1:212-13429', 'sequenceHash': '65B9D0FF', 'title': 'ORF1a polyprotein [organism=Severe acute respiratory syndrome coronavirus 2] [isolate=hCoV-19/Japan/Donner106/2020]'}, 'otherNames': ['ORF1a', 'ORF1a polyprotein', 'open reading frame 1a', 'orf1a', 'polyprotein 1ab', 'pp1a'], 'protein': {'accessionVersion': 'BCX25041.1', 'range': [{'begin': '1', 'end': '4405'}], 'seqId': 'BCX25041.1:1-4405', 'sequenceHash': 'A6EBC4B0', 'title': 'ORF1a polyprotein [organism=Severe acute respiratory syndrome coronavirus 2] [isolate=hCoV-19/Japan/Donner106/2020]'}}], 'name': 'ORF1ab'}, {'cds': [{'name': 'surface glycoprotein', 'nucleotide': {'accessionVersion': 'BS000784.1', 'range': [{'begin': '21509', 'end': '25330'}], 'seqId': 'BS000784.1:21509-25330', 'sequenceHash': 'CA673CC3', 'title': 'surface glycoprotein [organism=Severe acute respiratory syndrome coronavirus 2] [isolate=hCoV-19/Japan/Donner106/2020]'}, 'otherNames': ['ORF 2', 'open reading frame 2', 'spike', 'spike protein', 'surface glycoprotein'], 'protein': {'accessionVersion': 'BCX25042.1', 'range': [{'begin': '1', 'end': '1273'}], 'seqId': 'BCX25042.1:1-1273', 'sequenceHash': 'E6D139B3', 'title': 'surface glycoprotein [organism=Severe acute respiratory syndrome coronavirus 2] [isolate=hCoV-19/Japan/Donner106/2020]'}}], 'name': 'S'}, {'cds': [{'name': 'ORF3a protein', 'nucleotide': {'accessionVersion': 'BS000784.1', 'range': [{'begin': '25339', 'end': '26166'}], 'seqId': 'BS000784.1:25339-26166', 'sequenceHash': 'EC770D42', 'title': 'ORF3a protein [organism=Severe acute respiratory syndrome coronavirus 2] [isolate=hCoV-19/Japan/Donner106/2020]'}, 'otherNames': ['3a', 'ORF 3a', 'ORF3a', 'open reading frame 3a'], 'protein': {'accessionVersion': 'BCX25043.1', 'range': [{'begin': '1', 'end': '275'}], 'seqId': 'BCX25043.1:1-275', 'sequenceHash': 'CA130D0F', 'title': 'ORF3a protein [organism=Severe acute respiratory syndrome coronavirus 2] [isolate=hCoV-19/Japan/Donner106/2020]'}}], 'name': 'ORF3a'}, {'cds': [{'name': 'envelope protein', 'nucleotide': {'accessionVersion': 'BS000784.1', 'range': [{'begin': '26191', 'end': '26418'}], 'seqId': 'BS000784.1:26191-26418', 'sequenceHash': 'CFFD0414', 'title': 'envelope protein [organism=Severe acute respiratory syndrome coronavirus 2] [isolate=hCoV-19/Japan/Donner106/2020]'}, 'otherNames': ['E', 'ORF 4', 'ORF4', 'envelope', 'envelope protein', 'open reading frame 4'], 'protein': {'accessionVersion': 'BCX25044.1', 'range': [{'begin': '1', 'end': '75'}], 'seqId': 'BCX25044.1:1-75', 'sequenceHash': '8A7D03C2', 'title': 'envelope protein [organism=Severe acute respiratory syndrome coronavirus 2] [isolate=hCoV-19/Japan/Donner106/2020]'}}], 'name': 'E'}, {'cds': [{'name': 'membrane glycoprotein', 'nucleotide': {'accessionVersion': 'BS000784.1', 'range': [{'begin': '26469', 'end': '27137'}], 'seqId': 'BS000784.1:26469-27137', 'sequenceHash': '4A3D0AA4', 'title': 'membrane glycoprotein [organism=Severe acute respiratory syndrome coronavirus 2] [isolate=hCoV-19/Japan/Donner106/2020]'}, 'otherNames': ['M', 'ORF 5', 'ORF5', 'matrix glycoprotein', 'matrix protein', 'membrane', 'membrane glycoprotein', 'open reading frame 5'], 'protein': {'accessionVersion': 'BCX25045.1', 'range': [{'begin': '1', 'end': '222'}], 'seqId': 'BCX25045.1:1-222', 'sequenceHash': '404E09E2', 'title': 'membrane glycoprotein [organism=Severe acute respiratory syndrome coronavirus 2] [isolate=hCoV-19/Japan/Donner106/2020]'}}], 'name': 'M'}, {'cds': [{'name': 'ORF6 protein', 'nucleotide': {'accessionVersion': 'BS000784.1', 'range': [{'begin': '27148', 'end': '27333'}], 'seqId': 'BS000784.1:27148-27333', 'sequenceHash': '252702F1', 'title': 'ORF6 protein [organism=Severe acute respiratory syndrome coronavirus 2] [isolate=hCoV-19/Japan/Donner106/2020]'}, 'otherNames': ['ORF 6', 'ORF6', 'open reading frame 6'], 'protein': {'accessionVersion': 'BCX25046.1', 'range': [{'begin': '1', 'end': '61'}], 'seqId': 'BCX25046.1:1-61', 'sequenceHash': '543902B5', 'title': 'ORF6 protein [organism=Severe acute respiratory syndrome coronavirus 2] [isolate=hCoV-19/Japan/Donner106/2020]'}}], 'name': 'ORF6'}, {'cds': [{'name': 'ORF7a protein', 'nucleotide': {'accessionVersion': 'BS000784.1', 'range': [{'begin': '27340', 'end': '27705'}], 'seqId': 'BS000784.1:27340-27705', 'sequenceHash': '25E705AF', 'title': 'ORF7a protein [organism=Severe acute respiratory syndrome coronavirus 2] [isolate=hCoV-19/Japan/Donner106/2020]'}, 'otherNames': ['7a', 'ORF 7a', 'ORF7a', 'open reading frame 7a'], 'protein': {'accessionVersion': 'BCX25047.1', 'range': [{'begin': '1', 'end': '121'}], 'seqId': 'BCX25047.1:1-121', 'sequenceHash': '3B2A0535', 'title': 'ORF7a protein [organism=Severe acute respiratory syndrome coronavirus 2] [isolate=hCoV-19/Japan/Donner106/2020]'}}], 'name': 'ORF7a'}, {'cds': [{'name': 'ORF7b', 'nucleotide': {'accessionVersion': 'BS000784.1', 'range': [{'begin': '27702', 'end': '27833'}], 'seqId': 'BS000784.1:27702-27833', 'sequenceHash': 'ADD30274', 'title': 'ORF7b [organism=Severe acute respiratory syndrome coronavirus 2] [isolate=hCoV-19/Japan/Donner106/2020]'}, 'otherNames': ['7b', 'ORF 7b', 'ORF7b', 'open reading frame 7b'], 'protein': {'accessionVersion': 'BCX25048.1', 'range': [{'begin': '1', 'end': '43'}], 'seqId': 'BCX25048.1:1-43', 'sequenceHash': '2469019F', 'title': 'ORF7b [organism=Severe acute respiratory syndrome coronavirus 2] [isolate=hCoV-19/Japan/Donner106/2020]'}}], 'name': 'ORF7b'}, {'cds': [{'name': 'ORF8 protein', 'nucleotide': {'accessionVersion': 'BS000784.1', 'range': [{'begin': '27840', 'end': '28205'}], 'seqId': 'BS000784.1:27840-28205', 'sequenceHash': '43A50622', 'title': 'ORF8 protein [organism=Severe acute respiratory syndrome coronavirus 2] [isolate=hCoV-19/Japan/Donner106/2020]'}, 'otherNames': ['ORF 8', 'ORF8', 'open reading frame 8'], 'protein': {'accessionVersion': 'BCX25049.1', 'range': [{'begin': '1', 'end': '121'}], 'seqId': 'BCX25049.1:1-121', 'sequenceHash': '47D40569', 'title': 'ORF8 protein [organism=Severe acute respiratory syndrome coronavirus 2] [isolate=hCoV-19/Japan/Donner106/2020]'}}], 'name': 'ORF8'}, {'cds': [{'name': 'nucleocapsid phosphoprotein', 'nucleotide': {'accessionVersion': 'BS000784.1', 'range': [{'begin': '28220', 'end': '29479'}], 'seqId': 'BS000784.1:28220-29479', 'sequenceHash': '419710AB', 'title': 'nucleocapsid phosphoprotein [organism=Severe acute respiratory syndrome coronavirus 2] [isolate=hCoV-19/Japan/Donner106/2020]'}, 'otherNames': ['ORF 9', 'ORF9', 'nucleocapsid', 'nucleocapsid phosphoprotein', 'open reading frame 9'], 'protein': {'accessionVersion': 'BCX25050.1', 'range': [{'begin': '1', 'end': '419'}], 'seqId': 'BCX25050.1:1-419', 'sequenceHash': '9BCD12B4', 'title': 'nucleocapsid phosphoprotein [organism=Severe acute respiratory syndrome coronavirus 2] [isolate=hCoV-19/Japan/Donner106/2020]'}}], 'name': 'N'}, {'cds': [{'name': 'ORF10 protein', 'nucleotide': {'accessionVersion': 'BS000784.1', 'range': [{'begin': '29504', 'end': '29620'}], 'seqId': 'BS000784.1:29504-29620', 'sequenceHash': '761401EA', 'title': 'ORF10 protein [organism=Severe acute respiratory syndrome coronavirus 2] [isolate=hCoV-19/Japan/Donner106/2020]'}, 'otherNames': ['ORF 10', 'ORF10', 'open reading frame 10'], 'protein': {'accessionVersion': 'BCX25051.1', 'range': [{'begin': '1', 'end': '38'}], 'seqId': 'BCX25051.1:1-38', 'sequenceHash': '231201DA', 'title': 'ORF10 protein [organism=Severe acute respiratory syndrome coronavirus 2] [isolate=hCoV-19/Japan/Donner106/2020]'}}], 'name': 'ORF10'}]}, 'completeness': 'COMPLETE', 'geneCount': 11, 'host': {'lineage': [{'name': 'cellular organisms', 'taxId': 131567}, {'name': 'Eukaryota (eucaryotes)', 'taxId': 2759}, {'name': 'Opisthokonta', 'taxId': 33154}, {'name': 'Metazoa (metazoans)', 'taxId': 33208}, {'name': 'Eumetazoa', 'taxId': 6072}, {'name': 'Bilateria', 'taxId': 33213}, {'name': 'Deuterostomia (deuterostomes)', 'taxId': 33511}, {'name': 'Chordata (chordates)', 'taxId': 7711}, {'name': 'Craniata', 'taxId': 89593}, {'name': 'Vertebrata (vertebrates)', 'taxId': 7742}, {'name': 'Gnathostomata (jawed vertebrates)', 'taxId': 7776}, {'name': 'Teleostomi', 'taxId': 117570}, {'name': 'Euteleostomi (bony vertebrates)', 'taxId': 117571}, {'name': 'Sarcopterygii', 'taxId': 8287}, {'name': 'Dipnotetrapodomorpha', 'taxId': 1338369}, {'name': 'Tetrapoda (tetrapods)', 'taxId': 32523}, {'name': 'Amniota (amniotes)', 'taxId': 32524}, {'name': 'Mammalia (mammals)', 'taxId': 40674}, {'name': 'Theria', 'taxId': 32525}, {'name': 'Eutheria (placentals)', 'taxId': 9347}, {'name': 'Boreoeutheria', 'taxId': 1437010}, {'name': 'Euarchontoglires', 'taxId': 314146}, {'name': 'Primates', 'taxId': 9443}, {'name': 'Haplorrhini', 'taxId': 376913}, {'name': 'Simiiformes', 'taxId': 314293}, {'name': 'Catarrhini', 'taxId': 9526}, {'name': 'Hominoidea (apes)', 'taxId': 314295}, {'name': 'Hominidae (great apes)', 'taxId': 9604}, {'name': 'Homininae', 'taxId': 207598}, {'name': 'Homo (humans)', 'taxId': 9605}, {'name': 'Homo sapiens (human)', 'taxId': 9606}], 'sciName': 'Homo sapiens', 'taxId': 9606}, 'isAnnotated': True, 'isolate': {'collectionDate': '2020-11-04', 'name': 'hCoV-19/Japan/Donner106/2020', 'source': 'oronasopharynx'}, 'length': 29782, 'location': {'geographicLocation': 'Japan:Kanto', 'geographicRegion': 'Asia'}, 'maturePeptideCount': 15, 'molType': 'ssRNA(+)', 'nucleotide': {'accessionVersion': 'BS000784.1', 'seqId': 'BS000784.1', 'sequenceHash': 'FB41D40E', 'title': 'Severe acute respiratory syndrome coronavirus 2 hCoV-19/Japan/Donner106/2020 RNA, complete genome'}, 'nucleotideCompleteness': 'complete', 'proteinCount': 12, 'releaseDate': '2021-05-28', 'sourceDatabase': 'GenBank', 'updateDate': '2021-05-28', 'virus': {'lineage': [{'name': 'Viruses', 'taxId': 10239}, {'name': 'Riboviria (RNA viruses)', 'taxId': 2559587}, {'name': 'Orthornavirae', 'taxId': 2732396}, {'name': 'Pisuviricota', 'taxId': 2732408}, {'name': 'Pisoniviricetes', 'taxId': 2732506}, {'name': 'Nidovirales', 'taxId': 76804}, {'name': 'Cornidovirineae', 'taxId': 2499399}, {'name': 'Coronaviridae', 'taxId': 11118}, {'name': 'Orthocoronavirinae', 'taxId': 2501931}, {'name': 'Betacoronavirus', 'taxId': 694002}, {'name': 'Sarbecovirus', 'taxId': 2509511}, {'name': 'Severe acute respiratory syndrome-related coronavirus', 'taxId': 694009}, {'name': 'Severe acute respiratory syndrome coronavirus 2 (SARS-CoV-2)', 'taxId': 2697049}], 'pangolinClassification': 'B.1.1.214', 'sciName': 'Severe acute respiratory syndrome coronavirus 2', 'taxId': 2697049}}\n"
     ]
    }
   ],
   "source": [
    "# Write your code here\n",
    "import json\n",
    "file = open('data/single_record.json')\n",
    "sample_vir_record = json.load(file)\n",
    "print(sample_vir_record)"
   ]
  },
  {
   "cell_type": "markdown",
   "id": "9679620a",
   "metadata": {},
   "source": [
    "### Q.4\n",
    "\n",
    "Each Covid various in this database is classified according to a system referred to as the Pangolin (Phylogenetic Assignment of Named Global Outbreak LINeages) classification. It is not essential to complete the assignment that you understand this system, but if you're interested in learning more, see:\n",
    "\n",
    "https://cov-lineages.org/resources/pangolin.html\n",
    "\n",
    "The Pangolin classification of this sample record is nested within the `virus` key:\n",
    "```json\n",
    "{ ...\n",
    "  \"virus\": {\n",
    "              ...\n",
    "              \"pangolinClassification\": \n",
    "              ...\n",
    "            }\n",
    "  ... \n",
    "}\n",
    "```\n",
    "Write code to extract the classification of this record. The result should be `B.1.1.214`"
   ]
  },
  {
   "cell_type": "code",
   "execution_count": 7,
   "id": "a0084d08",
   "metadata": {},
   "outputs": [],
   "source": [
    "# Write your code here"
   ]
  },
  {
   "cell_type": "markdown",
   "id": "7db4f1ce",
   "metadata": {},
   "source": [
    "We hear in the news about `Alpha`, `Beta`, `Delta` variants of concern and recently the Mu variant as being of interest. Basedon your answer to `Q.3`, you may have been tempted to infer that this virus is of type `Beta` since the first letter is `B`. In fact, this variant of type `Alpha` and is a variant of concern. Although not relevant to this exercise, the rules for naming new variants and the list of known `SARS-CoV-2` are provided here:\n",
    "\n",
    "https://www.pango.network/how-does-the-system-work/what-are-pango-lineages/\n",
    "\n",
    "https://cov-lineages.org/lineage_list.html\n",
    "\n",
    "\n",
    "The following short video is very helpful for understanding what a variant is, how it arises, how it's named, and why some variants are more concerning than others.\n",
    "\n",
    "https://www.youtube.com/watch?v=B8UEZ9cfgz4"
   ]
  },
  {
   "cell_type": "markdown",
   "id": "47a61d70",
   "metadata": {},
   "source": [
    "### Q.5\n",
    "\n",
    "Write Python code that counts all the different kinds of variants in `data_report.jsonl`. \n",
    "Because the file is 7GB, you won't likely be able to load it into your laptop's RAM using Python. I encountered this error when trying to open it on my laptop\n",
    "\n",
    "![](https://www.dropbox.com/s/lieo685pafkgm5e/ram_error.png?dl=1)\n",
    "\n",
    "\n",
    "It would be easy to extract the data from the pangolinClassification field of each `json` record by reading each line (a record) at a time.\n",
    "\n",
    "The list of current variants of concern we are interested in are:\n",
    "      * Alpha (B.1.1.7)\n",
    "      * Beta (B.1.351, B.1.351.2, B.1.351.3)\n",
    "      * Delta (B.1.617.2, AY.1, AY.2, AY.3)\n",
    "      * Gamma (P.1, P.1.1, P.1.2) \n",
    "\n",
    "You should get something similar to what follows:\n",
    "```\n",
    "Alpha: X\n",
    "Beta: X\n",
    "Delta: X\n",
    "Gamma: X\n",
    "```\n",
    "Where `X` represents the counts for relevant variants"
   ]
  },
  {
   "cell_type": "code",
   "execution_count": 8,
   "id": "02544c57",
   "metadata": {},
   "outputs": [],
   "source": [
    "# Write your code here"
   ]
  },
  {
   "cell_type": "markdown",
   "id": "b18193ad",
   "metadata": {},
   "source": [
    "# Find similar viruses.\n",
    "\n",
    "It's often useful to compare viruses to study how similar strains are. While sophisticated algorithms to compare a pair of viruses exist, these are typically computationally intensive and cannot be used to carry out a large number of comparisons. \n",
    "\n",
    "An alternative, albeit less sensitive, approach consists of comparing word counts (called k-mers, where k is the word size) across genomes.  Suppose we have two viruses X and Y, with the following Genomes.\n",
    "```\n",
    "X = \"ACGTAGTGCATGTGTAGCTGTGTAGCTGTAC\"\n",
    "Y = \"ACTAGTGCATGTGTAGCTCTGTAGCTGATAC\"\n",
    "```\n",
    "\n",
    "To compare `X` and `Y`, we first vectorize these genomes by marking the presence of words (k-mers) as a boolean value, 0 if absent and 1 if the word is present. This method assumes that similar genomes will have the same words, which makes sense.\n",
    "\n",
    "This idea, which is referred to as the bag of words model is computationally efficient, making it ideal to vectorize text in big data analytics. Another variant of this model requires replacing the presence and absence by counts for each word.\n",
    "\n",
    "The code below vectorizes an input DNA sequence intro k-mers of size k=2"
   ]
  },
  {
   "cell_type": "code",
   "execution_count": 10,
   "id": "210cc01e",
   "metadata": {},
   "outputs": [],
   "source": [
    "# CODE PROVIDED -- DO NOT REMOVE\n",
    "def get_kmer_2(X):\n",
    "    DNA = [\"A\", \"C\", \"G\", \"T\"]\n",
    "    words_size_2 = [\"\".join(dna_prod) for dna_prod in product(DNA, DNA)]\n",
    "    counts = pd.Series([0 for _ in words_size_2], index = words_size_2)\n",
    "    words_in_X = set([X[i:i+2] for i in range(0, len(X)-1)])\n",
    "    counts[list(words_in_X)] = 1\n",
    "    return counts    "
   ]
  },
  {
   "cell_type": "code",
   "execution_count": 11,
   "id": "25362568",
   "metadata": {},
   "outputs": [
    {
     "data": {
      "text/plain": [
       "AA    0\n",
       "AC    1\n",
       "AG    0\n",
       "AT    0\n",
       "CA    0\n",
       "CC    0\n",
       "CG    1\n",
       "CT    0\n",
       "GA    0\n",
       "GC    0\n",
       "GG    0\n",
       "GT    1\n",
       "TA    0\n",
       "TC    0\n",
       "TG    0\n",
       "TT    0\n",
       "dtype: int64"
      ]
     },
     "execution_count": 11,
     "metadata": {},
     "output_type": "execute_result"
    }
   ],
   "source": [
    "# CODE PROVIDED -- DO NOT REMOVE\n",
    "# X has 3 words of size 2 (AC, CG, GT)\n",
    "X = \"ACGT\"\n",
    "get_kmer_2(\"ACGT\")"
   ]
  },
  {
   "cell_type": "markdown",
   "id": "c9cf6056",
   "metadata": {},
   "source": [
    "The function below takes a dictionary of sequences' counts as a `pandas Series` and prints it using HTML Table, which you might agree is nicer to visualize."
   ]
  },
  {
   "cell_type": "code",
   "execution_count": 13,
   "id": "96eab270",
   "metadata": {},
   "outputs": [],
   "source": [
    "# CODE PROVIDED -- DO NOT REMOVE\n",
    "def pretty_print_counts(counts_dict):\n",
    "    list_of_count = [data.to_list() for data in counts_dict.values()]\n",
    "    list_of_indices = [x for x in counts_dict.keys()]\n",
    "    list_of_columns = list(counts_dict.values())[0].index.to_list()\n",
    "    df_single_level_cols = pd.DataFrame(list_of_count,\n",
    "                                        index=[x for x in counts_dict.keys()],\n",
    "                                       columns = list_of_columns)    \n",
    "    return df_single_level_cols \n",
    "\n"
   ]
  },
  {
   "cell_type": "code",
   "execution_count": 14,
   "id": "dabf1943",
   "metadata": {},
   "outputs": [
    {
     "data": {
      "text/html": [
       "<div>\n",
       "<style scoped>\n",
       "    .dataframe tbody tr th:only-of-type {\n",
       "        vertical-align: middle;\n",
       "    }\n",
       "\n",
       "    .dataframe tbody tr th {\n",
       "        vertical-align: top;\n",
       "    }\n",
       "\n",
       "    .dataframe thead th {\n",
       "        text-align: right;\n",
       "    }\n",
       "</style>\n",
       "<table border=\"1\" class=\"dataframe\">\n",
       "  <thead>\n",
       "    <tr style=\"text-align: right;\">\n",
       "      <th></th>\n",
       "      <th>AA</th>\n",
       "      <th>AC</th>\n",
       "      <th>AG</th>\n",
       "      <th>AT</th>\n",
       "      <th>CA</th>\n",
       "      <th>CC</th>\n",
       "      <th>CG</th>\n",
       "      <th>CT</th>\n",
       "      <th>GA</th>\n",
       "      <th>GC</th>\n",
       "      <th>GG</th>\n",
       "      <th>GT</th>\n",
       "      <th>TA</th>\n",
       "      <th>TC</th>\n",
       "      <th>TG</th>\n",
       "      <th>TT</th>\n",
       "    </tr>\n",
       "  </thead>\n",
       "  <tbody>\n",
       "    <tr>\n",
       "      <th>X</th>\n",
       "      <td>0</td>\n",
       "      <td>1</td>\n",
       "      <td>0</td>\n",
       "      <td>0</td>\n",
       "      <td>0</td>\n",
       "      <td>0</td>\n",
       "      <td>1</td>\n",
       "      <td>0</td>\n",
       "      <td>0</td>\n",
       "      <td>0</td>\n",
       "      <td>0</td>\n",
       "      <td>1</td>\n",
       "      <td>1</td>\n",
       "      <td>0</td>\n",
       "      <td>0</td>\n",
       "      <td>0</td>\n",
       "    </tr>\n",
       "    <tr>\n",
       "      <th>Y</th>\n",
       "      <td>1</td>\n",
       "      <td>1</td>\n",
       "      <td>0</td>\n",
       "      <td>0</td>\n",
       "      <td>1</td>\n",
       "      <td>0</td>\n",
       "      <td>1</td>\n",
       "      <td>0</td>\n",
       "      <td>0</td>\n",
       "      <td>0</td>\n",
       "      <td>0</td>\n",
       "      <td>1</td>\n",
       "      <td>1</td>\n",
       "      <td>0</td>\n",
       "      <td>0</td>\n",
       "      <td>0</td>\n",
       "    </tr>\n",
       "    <tr>\n",
       "      <th>Z</th>\n",
       "      <td>1</td>\n",
       "      <td>1</td>\n",
       "      <td>0</td>\n",
       "      <td>0</td>\n",
       "      <td>1</td>\n",
       "      <td>0</td>\n",
       "      <td>1</td>\n",
       "      <td>0</td>\n",
       "      <td>0</td>\n",
       "      <td>0</td>\n",
       "      <td>0</td>\n",
       "      <td>1</td>\n",
       "      <td>1</td>\n",
       "      <td>0</td>\n",
       "      <td>0</td>\n",
       "      <td>1</td>\n",
       "    </tr>\n",
       "  </tbody>\n",
       "</table>\n",
       "</div>"
      ],
      "text/plain": [
       "   AA  AC  AG  AT  CA  CC  CG  CT  GA  GC  GG  GT  TA  TC  TG  TT\n",
       "X   0   1   0   0   0   0   1   0   0   0   0   1   1   0   0   0\n",
       "Y   1   1   0   0   1   0   1   0   0   0   0   1   1   0   0   0\n",
       "Z   1   1   0   0   1   0   1   0   0   0   0   1   1   0   0   1"
      ]
     },
     "execution_count": 14,
     "metadata": {},
     "output_type": "execute_result"
    }
   ],
   "source": [
    "# CODE PROVIDED -- DO NOT REMOVE\n",
    "\n",
    "X = \"ACGTACGTACGTACGT\"\n",
    "Y = \"ACGTACAAACGTACGT\"\n",
    "Z = \"TTTTACAAACGTTTTT\"\n",
    "\n",
    "counts_dict = {\"X\": get_kmer_2(X), \"Y\": get_kmer_2(Y), \"Z\": get_kmer_2(Z)}\n",
    "pretty_print_counts(counts_dict)\n"
   ]
  },
  {
   "cell_type": "markdown",
   "id": "8f6fad1f",
   "metadata": {},
   "source": [
    "### Q.6\n",
    "\n",
    "Write a function that computes the Jaccard similarity between two feature vectors, A and B. If you recall, Jaccard similarity is computed as:\n",
    "\n",
    "$$J(A,B) = \\frac{A \\cap B}{A \\cup B}$$\n",
    "\n",
    "In other words, the number of items shared by `A` and `B` over the set of all items in `A` or `B`.\n",
    "\n",
    "For example, for `A= get_kmer_2(X)` and Y = get_kmer_2(B) above,\n",
    "\n",
    "$$\n",
    "J(A,B) = \\frac{4}{6}\n",
    "$$\n",
    "\n",
    "Your function should have the following signature: \n",
    "\n",
    "`jaccard(A, B)`\n",
    "\n",
    "Where `A` and `B` are `pandas Series`\n",
    "\n",
    "\n",
    "Test your function using the code below to make sure it's correct."
   ]
  },
  {
   "cell_type": "code",
   "execution_count": 15,
   "id": "49fd6daf",
   "metadata": {},
   "outputs": [],
   "source": [
    "# Write you code here"
   ]
  },
  {
   "cell_type": "code",
   "execution_count": 19,
   "id": "f3303fd4",
   "metadata": {},
   "outputs": [],
   "source": [
    "# TEST PROVIDED -- DO NOT REMOVE\n",
    "A = get_kmer_2(X)\n",
    "B = get_kmer_2(Y)\n",
    "assert jaccard(A, B) == 4/6"
   ]
  },
  {
   "cell_type": "markdown",
   "id": "f11b91a0",
   "metadata": {},
   "source": [
    "### Q.7 \n",
    "\n",
    "* Compute the jaccard similarity for the pairs of sequences `(X, Y)`, `(X, Z)`, `(Y, Z)`. \n"
   ]
  },
  {
   "cell_type": "code",
   "execution_count": 21,
   "id": "d4923080",
   "metadata": {},
   "outputs": [],
   "source": [
    "# Write you code here"
   ]
  },
  {
   "cell_type": "markdown",
   "id": "c8695957",
   "metadata": {},
   "source": [
    "### Q.8\n",
    "\n",
    "The vectors representing the presence and absence of words in both `Y` and `Z` are very similar (Jaccard = 0.85), despite major differences at the DNA level between these two sequences. This is because the words are small -- it is as if you were comparing a history book with a book on Python using words of size 2. It's very likely that both books will contain the same words of size 2. Increasing the size of `k` will produce substantial differences. \n",
    "\n",
    "Change the function `get_kmer_2` so that given a sequence `X` and a k-mer size `k`, the function returns a boolean vector of all the words of size `k` in `X`. Cal the function `get_kmer`\n",
    "\n",
    "\n",
    "\n",
    "The following code can be used to generate all DNA words of size `k`\n",
    "```pyton\n",
    "words_size_k = [\"\".join(prod) for prod in product(*([DNA]*k))]\n",
    "```\n",
    "\n",
    "Once done, use the code below to test your function"
   ]
  },
  {
   "cell_type": "code",
   "execution_count": 22,
   "id": "ec8750a0",
   "metadata": {},
   "outputs": [],
   "source": [
    "# Write you code here"
   ]
  },
  {
   "cell_type": "code",
   "execution_count": 16,
   "id": "072c31fe",
   "metadata": {},
   "outputs": [],
   "source": [
    "# TEST PROVIDED -- DO NOT REMOVE\n",
    "X = \"ACGTGATGATTG\"\n",
    "\n",
    "counts = get_kmer(X, k=1)\n",
    "assert counts.tolist() == [1,1,1,1]\n",
    "\n",
    "\n",
    "counts = get_kmer(X, k=3)\n",
    "assert (counts[[\"ACG\", \"CGT\", \"GTG\", \"TGA\", \"GAT\", \"ATG\", \"ATT\", \"TTG\"]] == 1).sum()  == 8\n",
    "assert (counts.drop([\"ACG\", \"CGT\", \"GTG\", \"TGA\", \"GAT\", \"ATG\", \"ATT\", \"TTG\"]) == 0).sum()  == 56\n"
   ]
  },
  {
   "cell_type": "markdown",
   "id": "7a7a056b",
   "metadata": {},
   "source": [
    "### Q.9\n",
    "\n",
    "* Compute the Jaccard similarity for the pairs `(X, Y)`, `(X, Z)`, `(Y, Z)` using `k= 5`\n"
   ]
  },
  {
   "cell_type": "code",
   "execution_count": 23,
   "id": "925d98f5",
   "metadata": {},
   "outputs": [],
   "source": [
    "# Write you code here"
   ]
  },
  {
   "cell_type": "markdown",
   "id": "841829e0",
   "metadata": {},
   "source": [
    "The appropriate word size varies with the length of the text, with larger words depicting similarity more accurately. However, large values of `k` are:\n",
    "1. More computationally intensive to compute. With k = 12, there are $4^12 = 16,777,216$ words to compute for each sequence.\n",
    "\n",
    "2. More likely to skew the distance between fairly similar sequences. For example `k=8`, the Jaccard index between `X` and `Y` is `0`, even though `X` and `Y` have only two mismatching characters. While this is an extreme case due to the fact that X and Y are short, the logic applies to longer sequences and larger values of `k`\n",
    "\n",
    "\n",
    "![](https://www.dropbox.com/s/rhw5szbiohsqu7w/mismatches.png?dl=1)\n"
   ]
  },
  {
   "cell_type": "code",
   "execution_count": 24,
   "id": "aa64ea97",
   "metadata": {},
   "outputs": [],
   "source": [
    "# Write you code here"
   ]
  },
  {
   "cell_type": "markdown",
   "id": "ca7dd5bc",
   "metadata": {},
   "source": [
    "The code I used is provided as a reference below. The code took 7 hours to complete on a single machine and approximately 12 minutes on a larger server with 72 cores and 1TB of RAM. To parallelize the execution, I split the file into files that contain 1000 sequences each and used GNU Parallel to run each file on a single CPU core."
   ]
  },
  {
   "cell_type": "code",
   "execution_count": 1,
   "id": "f943c170",
   "metadata": {},
   "outputs": [],
   "source": [
    "# CODE PROVIDED FOR ILLUTRATION -- DO NOT REMOVE\n",
    "# RUNNING LOCALLY MAY TAKE A LONG TIME TO COMPLETE\n",
    "\n",
    "# k = 8 \n",
    "# DNA = [\"A\", \"C\", \"G\", \"T\"]\n",
    "# words_size_k = [\"\".join(prod) for prod in product(*([DNA]*k))]\n",
    "\n",
    "    \n",
    "# def get_kmer_mod(X):\n",
    "#     counts = pd.Series([0 for _ in words_size_k], index = words_size_k)\n",
    "#     words_in_X = set([X[i:i+k] for i in range(0, len(X)-k+1)])\n",
    "#     counts[list(words_in_X)] = 1\n",
    "#     return counts   \n",
    "\n",
    "# def replace_bad_nucs(seq):\n",
    "#     for character in ['W', 'K', \"Y\", \"M\", 'H']:\n",
    "#         seq = seq.replace(character, 'A') \n",
    "        \n",
    "#     for character in ['R', 'S', 'D', \"V\", \"B\"]:\n",
    "#         seq = seq.replace(character, 'C') \n",
    "        \n",
    "#     seq = seq.replace(\"N\", '') \n",
    "    \n",
    "#     return seq\n",
    "\n",
    "# all_counts = []\n",
    "# all_names = []\n",
    "# with tqdm(total=1000) as pbar:\n",
    "#     for record in SeqIO.parse(\"myseq0.fa\", 'fasta'):\n",
    "#         all_names.append(record.id)\n",
    "#         seq = replace_bad_nucs(str(record.seq))\n",
    "\n",
    "#         counts = get_kmer_mod(seq)\n",
    "#         all_counts.append(counts)\n",
    "#         pbar.update(1)\n",
    "    \n",
    "# kmer_counts = pd.DataFrame(all_counts, index = all_names)\n",
    "# kmer_counts.head()"
   ]
  },
  {
   "cell_type": "markdown",
   "id": "8cc55a33",
   "metadata": {},
   "source": [
    "### Hashing Sequences\n",
    "\n",
    "We are interested in finding pairs of sequences that are very similar. However, comparing the sequences pairwise is not tractable since it would require carrying out $429282 * (429282 - 1) / 2 = 92_141_303_121$ comparisons.\n",
    "\n",
    "Instead, we will use the hashing-based approach covered in class. Rather than hashing a sequence over all k-mers, we will only compute the hash for a subset of k-mers. we will repeat the operation n times to avoid that similar sequences are assigned to different bins due to a single, rare mismatch.\n",
    "\n",
    "This, as discussed in class, is computationally more efficient compared to computing all pairwise sequences. "
   ]
  },
  {
   "cell_type": "markdown",
   "id": "ab434db6",
   "metadata": {},
   "source": [
    "### Q.10 \n",
    "\n",
    "Write a function that takes a `pandas  Series` and a subset of columns and returns the hash computed on the subset of columns. Call this function`hash_on_subset`.\n",
    "\n",
    "As an example, consider all words with a size of 2 as follows \n",
    "\n",
    "|\t|AA\t|AC\t|AG\t|AT\t|CA | CC| CG| CT| GA| GC| GG| GT| TA| TC| TG| TT|\n",
    "|---|---|---|---|---|---|---|---|---|---|---|---|---|---|---|---|---|\n",
    "| A\t|0\t|1\t|0\t|0\t|0\t|0\t|1\t|0\t| 0 |0\t|0\t| 1 |1  |0\t|0\t|0  |\n",
    "\n",
    "```python\n",
    "hash_on_subset(A, [\"AC\", \"CG\", \"CT\", \"GT\", \"TA\"]) \n",
    "```\n",
    "\n",
    "is equivalent to:\n",
    "\n",
    "```python\n",
    "hash((1, 1, 0, 1, 1)) == 5085477689562523216\n",
    "```\n"
   ]
  },
  {
   "cell_type": "code",
   "execution_count": 25,
   "id": "baefa80a",
   "metadata": {},
   "outputs": [],
   "source": [
    "# Write you code here"
   ]
  },
  {
   "cell_type": "markdown",
   "id": "982ff5a6",
   "metadata": {},
   "source": [
    "\n",
    "The method `sample` from the random module `m` words from a list\n",
    "\n",
    "For example, running:\n",
    "```python\n",
    "random.sample( [\"A\", \"C\", \"G\", \"T\"], 2 )\n",
    "```\n",
    "returns\n",
    "```\n",
    "['A', 'C']\n",
    "```\n",
    "The returned subset may be different for you.\n",
    "\n",
    "* The code below randomly selects `m=20` k-mers we will use to compare the genomes\n",
    "\n"
   ]
  },
  {
   "cell_type": "code",
   "execution_count": 31,
   "id": "c471e03c",
   "metadata": {},
   "outputs": [
    {
     "data": {
      "text/plain": [
       "['A', 'C']"
      ]
     },
     "execution_count": 31,
     "metadata": {},
     "output_type": "execute_result"
    }
   ],
   "source": [
    "random.sample( [\"A\", \"C\", \"G\", \"T\"], 2 )"
   ]
  },
  {
   "cell_type": "code",
   "execution_count": 35,
   "id": "9c6c8245",
   "metadata": {},
   "outputs": [],
   "source": [
    "k=8\n",
    "DNA = [\"A\", \"C\", \"G\", \"T\"]\n",
    "words_size_k = [\"\".join(prod) for prod in product(*([DNA]*k))]\n",
    "\n",
    "m=20\n",
    "subset_kmers = random.sample(words_size_k, m)\n",
    "\n",
    "# subset_kmers"
   ]
  },
  {
   "cell_type": "markdown",
   "id": "cb434317",
   "metadata": {},
   "source": [
    "### Q.12\n",
    "\n",
    "\n",
    "Apply the function `hash_subset` to all the rows of `all_kmers_df`. The data science (*vectorized*) way to do so is using the `apply` method available on a `pandas DataFrame` instead of using for loops. For example, given a DataFrame `df` such that:\n",
    "\n",
    "```\n",
    "df = pd.DataFrame([[1,2,3], [4,5,6]])\n",
    "\n",
    "```\n",
    "then \n",
    "```\n",
    "df.apply(max, args=[] axis=1)\n",
    "```\n",
    "applies the `max()` function on each row (`axis = 1`). Here, `args` is empty since `max` does not take any additional arguments.\n",
    "\n",
    "The example below shows how to use `apply` when the function requires additional arguments. In this example, we apply a function that sums all the values of a row and adds to the sum an offset (2 by default)\n",
    "\n"
   ]
  },
  {
   "cell_type": "code",
   "execution_count": 26,
   "id": "41b99f78",
   "metadata": {},
   "outputs": [
    {
     "name": "stdout",
     "output_type": "stream",
     "text": [
      "The sum of rows + an offset of 5 is:\n",
      "0    11\n",
      "1    20\n",
      "dtype: int64\n",
      "The sum of rows + an offset of 10 is:\n",
      "0    16\n",
      "1    25\n",
      "dtype: int64\n"
     ]
    }
   ],
   "source": [
    "# EXAMPLE CODE PROVIDED -- DO NOT REMOVE\n",
    "def add_val_to_sum(x, offset=2):\n",
    "    return x.sum() + offset\n",
    "    \n",
    "df = pd.DataFrame([[1,2,3], [4,5,6]])\n",
    "\n",
    "print(\"The sum of rows + an offset of 5 is:\")\n",
    "print(df.apply(add_val_to_sum, args=[5], axis=1))\n",
    "\n",
    "print(\"The sum of rows + an offset of 10 is:\")\n",
    "print(df.apply(add_val_to_sum, args=[10], axis=1))\n",
    "   "
   ]
  },
  {
   "cell_type": "markdown",
   "id": "b327b450",
   "metadata": {},
   "source": [
    "### Q.13\n",
    "\n",
    "\n",
    "Use `apply()` to apply `hash_subset` and compute the hash values for all the rows of `all_kmers_df` over `subset_kmers`\n",
    "\n",
    "* Create a dict by parsing the results to group sequences that yield the same hash under the same bins. Each key in the dict should be a key and each value is a list of sequences that have the same value.\n",
    "\n",
    "For example, in the dictionary below, X and Y have the same hash value (123456) over a given subset of kmers, whereas Z has a different hash over the same subsets.\n",
    "\n",
    "```\n",
    "{\"123456\": [X,Y], \"654321\": [Z]}\n",
    "```\n"
   ]
  },
  {
   "cell_type": "code",
   "execution_count": 27,
   "id": "a5d55964",
   "metadata": {},
   "outputs": [],
   "source": [
    "# Write your code here"
   ]
  },
  {
   "cell_type": "markdown",
   "id": "0aff4715",
   "metadata": {},
   "source": [
    "### Q. 15\n",
    "\n",
    "Here we use the presence and absence of words, i.e., a vector of booleans, to encode a sequence. The problem with this approach is that it considers the sequences to be identical, even if their word counts differ substantially. For example, given the sequence `X`, `Y` and `Z` as follows\n",
    "```\n",
    "X = ATAGATAGATAGATAGATT\n",
    "Y = ATAGATAGATAGATAGATT\n",
    "Z = ATAGATTTTTTTTTTTTTT\n",
    "```\n",
    "With k =2, all three sequences mach on their vector of word presence/absense."
   ]
  },
  {
   "cell_type": "code",
   "execution_count": 26,
   "id": "9653e701",
   "metadata": {},
   "outputs": [
    {
     "data": {
      "text/html": [
       "<div>\n",
       "<style scoped>\n",
       "    .dataframe tbody tr th:only-of-type {\n",
       "        vertical-align: middle;\n",
       "    }\n",
       "\n",
       "    .dataframe tbody tr th {\n",
       "        vertical-align: top;\n",
       "    }\n",
       "\n",
       "    .dataframe thead th {\n",
       "        text-align: right;\n",
       "    }\n",
       "</style>\n",
       "<table border=\"1\" class=\"dataframe\">\n",
       "  <thead>\n",
       "    <tr style=\"text-align: right;\">\n",
       "      <th></th>\n",
       "      <th>AA</th>\n",
       "      <th>AC</th>\n",
       "      <th>AG</th>\n",
       "      <th>AT</th>\n",
       "      <th>CA</th>\n",
       "      <th>CC</th>\n",
       "      <th>CG</th>\n",
       "      <th>CT</th>\n",
       "      <th>GA</th>\n",
       "      <th>GC</th>\n",
       "      <th>GG</th>\n",
       "      <th>GT</th>\n",
       "      <th>TA</th>\n",
       "      <th>TC</th>\n",
       "      <th>TG</th>\n",
       "      <th>TT</th>\n",
       "    </tr>\n",
       "  </thead>\n",
       "  <tbody>\n",
       "    <tr>\n",
       "      <th>X</th>\n",
       "      <td>0</td>\n",
       "      <td>0</td>\n",
       "      <td>1</td>\n",
       "      <td>1</td>\n",
       "      <td>0</td>\n",
       "      <td>0</td>\n",
       "      <td>0</td>\n",
       "      <td>0</td>\n",
       "      <td>1</td>\n",
       "      <td>0</td>\n",
       "      <td>0</td>\n",
       "      <td>0</td>\n",
       "      <td>1</td>\n",
       "      <td>0</td>\n",
       "      <td>0</td>\n",
       "      <td>1</td>\n",
       "    </tr>\n",
       "    <tr>\n",
       "      <th>Y</th>\n",
       "      <td>0</td>\n",
       "      <td>0</td>\n",
       "      <td>1</td>\n",
       "      <td>1</td>\n",
       "      <td>0</td>\n",
       "      <td>0</td>\n",
       "      <td>0</td>\n",
       "      <td>0</td>\n",
       "      <td>1</td>\n",
       "      <td>0</td>\n",
       "      <td>0</td>\n",
       "      <td>0</td>\n",
       "      <td>1</td>\n",
       "      <td>0</td>\n",
       "      <td>0</td>\n",
       "      <td>1</td>\n",
       "    </tr>\n",
       "    <tr>\n",
       "      <th>Z</th>\n",
       "      <td>0</td>\n",
       "      <td>0</td>\n",
       "      <td>1</td>\n",
       "      <td>1</td>\n",
       "      <td>0</td>\n",
       "      <td>0</td>\n",
       "      <td>0</td>\n",
       "      <td>0</td>\n",
       "      <td>1</td>\n",
       "      <td>0</td>\n",
       "      <td>0</td>\n",
       "      <td>0</td>\n",
       "      <td>1</td>\n",
       "      <td>0</td>\n",
       "      <td>0</td>\n",
       "      <td>1</td>\n",
       "    </tr>\n",
       "  </tbody>\n",
       "</table>\n",
       "</div>"
      ],
      "text/plain": [
       "   AA  AC  AG  AT  CA  CC  CG  CT  GA  GC  GG  GT  TA  TC  TG  TT\n",
       "X   0   0   1   1   0   0   0   0   1   0   0   0   1   0   0   1\n",
       "Y   0   0   1   1   0   0   0   0   1   0   0   0   1   0   0   1\n",
       "Z   0   0   1   1   0   0   0   0   1   0   0   0   1   0   0   1"
      ]
     },
     "execution_count": 26,
     "metadata": {},
     "output_type": "execute_result"
    }
   ],
   "source": [
    "X = \"ATAGATAGATAGATAGATT\"\n",
    "Y = \"ATAGATAGATAGATAGATT\"\n",
    "Z = \"ATAGATTTTTTTTTTTTTT\"\n",
    "\n",
    "counts_dict = {\"X\": get_kmer(X, k=2), \"Y\": get_kmer(Y, k=2), \"Z\": get_kmer(Z, k=2)}\n",
    "pretty_print_counts(counts_dict)"
   ]
  },
  {
   "cell_type": "markdown",
   "id": "cbe44285",
   "metadata": {},
   "source": [
    "* Comparing these sequences based on word counts, X is much more similar to Y than it is to Z"
   ]
  },
  {
   "cell_type": "code",
   "execution_count": 42,
   "id": "d78d04d2",
   "metadata": {},
   "outputs": [
    {
     "data": {
      "text/html": [
       "<div>\n",
       "<style scoped>\n",
       "    .dataframe tbody tr th:only-of-type {\n",
       "        vertical-align: middle;\n",
       "    }\n",
       "\n",
       "    .dataframe tbody tr th {\n",
       "        vertical-align: top;\n",
       "    }\n",
       "\n",
       "    .dataframe thead th {\n",
       "        text-align: right;\n",
       "    }\n",
       "</style>\n",
       "<table border=\"1\" class=\"dataframe\">\n",
       "  <thead>\n",
       "    <tr style=\"text-align: right;\">\n",
       "      <th></th>\n",
       "      <th>AA</th>\n",
       "      <th>AC</th>\n",
       "      <th>AG</th>\n",
       "      <th>AT</th>\n",
       "      <th>CA</th>\n",
       "      <th>CC</th>\n",
       "      <th>CG</th>\n",
       "      <th>CT</th>\n",
       "      <th>GA</th>\n",
       "      <th>GC</th>\n",
       "      <th>GG</th>\n",
       "      <th>GT</th>\n",
       "      <th>TA</th>\n",
       "      <th>TC</th>\n",
       "      <th>TG</th>\n",
       "      <th>TT</th>\n",
       "    </tr>\n",
       "  </thead>\n",
       "  <tbody>\n",
       "    <tr>\n",
       "      <th>X</th>\n",
       "      <td>0</td>\n",
       "      <td>0</td>\n",
       "      <td>4</td>\n",
       "      <td>5</td>\n",
       "      <td>0</td>\n",
       "      <td>0</td>\n",
       "      <td>0</td>\n",
       "      <td>0</td>\n",
       "      <td>4</td>\n",
       "      <td>0</td>\n",
       "      <td>0</td>\n",
       "      <td>0</td>\n",
       "      <td>4</td>\n",
       "      <td>0</td>\n",
       "      <td>0</td>\n",
       "      <td>1</td>\n",
       "    </tr>\n",
       "    <tr>\n",
       "      <th>Y</th>\n",
       "      <td>0</td>\n",
       "      <td>0</td>\n",
       "      <td>4</td>\n",
       "      <td>5</td>\n",
       "      <td>0</td>\n",
       "      <td>0</td>\n",
       "      <td>0</td>\n",
       "      <td>0</td>\n",
       "      <td>4</td>\n",
       "      <td>0</td>\n",
       "      <td>0</td>\n",
       "      <td>0</td>\n",
       "      <td>4</td>\n",
       "      <td>0</td>\n",
       "      <td>0</td>\n",
       "      <td>1</td>\n",
       "    </tr>\n",
       "    <tr>\n",
       "      <th>Z</th>\n",
       "      <td>0</td>\n",
       "      <td>0</td>\n",
       "      <td>1</td>\n",
       "      <td>2</td>\n",
       "      <td>0</td>\n",
       "      <td>0</td>\n",
       "      <td>0</td>\n",
       "      <td>0</td>\n",
       "      <td>1</td>\n",
       "      <td>0</td>\n",
       "      <td>0</td>\n",
       "      <td>0</td>\n",
       "      <td>1</td>\n",
       "      <td>0</td>\n",
       "      <td>0</td>\n",
       "      <td>13</td>\n",
       "    </tr>\n",
       "  </tbody>\n",
       "</table>\n",
       "</div>"
      ],
      "text/plain": [
       "   AA  AC  AG  AT  CA  CC  CG  CT  GA  GC  GG  GT  TA  TC  TG  TT\n",
       "X   0   0   4   5   0   0   0   0   4   0   0   0   4   0   0   1\n",
       "Y   0   0   4   5   0   0   0   0   4   0   0   0   4   0   0   1\n",
       "Z   0   0   1   2   0   0   0   0   1   0   0   0   1   0   0  13"
      ]
     },
     "execution_count": 42,
     "metadata": {},
     "output_type": "execute_result"
    }
   ],
   "source": [
    "def get_kmer_counts(X, k):\n",
    "    DNA = [\"A\", \"C\", \"G\", \"T\"]\n",
    "    words_size_k = [\"\".join(prod) for prod in product(*([DNA]*k))]\n",
    "    counts = pd.Series([0 for _ in words_size_k], index = words_size_k)\n",
    "    counts_words_in_x = Counter([X[i:i+k] for i in range(0, len(X)-k+1)])\n",
    "    counts.update(counts_words_in_x)\n",
    "    return counts    \n",
    "\n",
    "\n",
    "counts_dict = {\"X\": get_kmer_counts(X, k=2), \"Y\": get_kmer_counts(Y, k=2), \"Z\": get_kmer_counts(Z, k=2)}\n",
    "pretty_print_counts(counts_dict)"
   ]
  },
  {
   "cell_type": "markdown",
   "id": "ac280486",
   "metadata": {},
   "source": [
    "* Given an example (vectors) to justify why hashing is not ideal with counts.\n",
    "  * Use any means you think are useful to illustrate your point (e.g.: figure, simulation (yes, please!))\n",
    " \n",
    "* Describe how the random project approach discussed in class can help solve the issue discussed\n",
    "  * Use code to illustrate how random projection works in the following example.\n",
    "    * I.e., provide code to provide an example where `X` and `Y` are assigned to the same bin and `Y` is assigned to a different bin.\n",
    "    * You can choose any vector values as needed \n",
    " \n",
    "```python\n",
    "X = [1,2]\n",
    "Y = [2,2]\n",
    "Z = [5,1]\n",
    "```"
   ]
  },
  {
   "cell_type": "code",
   "execution_count": 49,
   "id": "eb38ffd5",
   "metadata": {},
   "outputs": [],
   "source": [
    "### Write your code here"
   ]
  },
  {
   "cell_type": "code",
   "execution_count": null,
   "id": "882e9c96",
   "metadata": {},
   "outputs": [],
   "source": []
  }
 ],
 "metadata": {
  "kernelspec": {
   "display_name": "Python 3 (ipykernel)",
   "language": "python",
   "name": "python3"
  },
  "language_info": {
   "codemirror_mode": {
    "name": "ipython",
    "version": 3
   },
   "file_extension": ".py",
   "mimetype": "text/x-python",
   "name": "python",
   "nbconvert_exporter": "python",
   "pygments_lexer": "ipython3",
   "version": "3.9.5"
  }
 },
 "nbformat": 4,
 "nbformat_minor": 5
}
